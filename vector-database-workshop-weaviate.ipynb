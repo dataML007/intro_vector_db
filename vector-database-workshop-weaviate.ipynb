{
 "cells": [
  {
   "cell_type": "markdown",
   "metadata": {},
   "source": [
    "# Vector Database Workshop with **Weaviate**"
   ]
  },
  {
   "cell_type": "markdown",
   "metadata": {},
   "source": [
    "### Install Weaviate Python Client Library\n",
    "The latest Weaviate Python client library can be installed using pip. The client library is tested on Python 3.8 and later. Install it using the following command"
   ]
  },
  {
   "cell_type": "code",
   "execution_count": 19,
   "metadata": {},
   "outputs": [
    {
     "name": "stderr",
     "output_type": "stream",
     "text": [
      "/usr/local/python/3.12.1/lib/python3.12/pty.py:95: DeprecationWarning: This process (pid=2688) is multi-threaded, use of forkpty() may lead to deadlocks in the child.\n",
      "  pid, fd = os.forkpty()\n"
     ]
    },
    {
     "name": "stdout",
     "output_type": "stream",
     "text": [
      "Requirement already satisfied: weaviate-client in /usr/local/python/3.12.1/lib/python3.12/site-packages (4.9.0)\n",
      "Requirement already satisfied: tqdm in /usr/local/python/3.12.1/lib/python3.12/site-packages (4.66.5)\n",
      "Requirement already satisfied: python-dotenv in /usr/local/python/3.12.1/lib/python3.12/site-packages (1.0.1)\n",
      "Requirement already satisfied: kagglehub in /usr/local/python/3.12.1/lib/python3.12/site-packages (0.3.3)\n",
      "Requirement already satisfied: requests<3.0.0,>=2.30.0 in /home/codespace/.local/lib/python3.12/site-packages (from weaviate-client) (2.32.3)\n",
      "Requirement already satisfied: httpx<=0.27.0,>=0.25.0 in /usr/local/python/3.12.1/lib/python3.12/site-packages (from weaviate-client) (0.27.0)\n",
      "Requirement already satisfied: validators==0.34.0 in /usr/local/python/3.12.1/lib/python3.12/site-packages (from weaviate-client) (0.34.0)\n",
      "Requirement already satisfied: authlib<1.3.2,>=1.2.1 in /usr/local/python/3.12.1/lib/python3.12/site-packages (from weaviate-client) (1.3.1)\n",
      "Requirement already satisfied: pydantic<3.0.0,>=2.5.0 in /usr/local/python/3.12.1/lib/python3.12/site-packages (from weaviate-client) (2.9.2)\n",
      "Requirement already satisfied: grpcio<2.0.0,>=1.57.0 in /usr/local/python/3.12.1/lib/python3.12/site-packages (from weaviate-client) (1.67.0)\n",
      "Requirement already satisfied: grpcio-tools<2.0.0,>=1.57.0 in /usr/local/python/3.12.1/lib/python3.12/site-packages (from weaviate-client) (1.67.0)\n",
      "Requirement already satisfied: grpcio-health-checking<2.0.0,>=1.57.0 in /usr/local/python/3.12.1/lib/python3.12/site-packages (from weaviate-client) (1.67.0)\n",
      "Requirement already satisfied: packaging in /home/codespace/.local/lib/python3.12/site-packages (from kagglehub) (24.1)\n",
      "Requirement already satisfied: cryptography in /usr/local/python/3.12.1/lib/python3.12/site-packages (from authlib<1.3.2,>=1.2.1->weaviate-client) (43.0.3)\n",
      "Requirement already satisfied: protobuf<6.0dev,>=5.26.1 in /usr/local/python/3.12.1/lib/python3.12/site-packages (from grpcio-health-checking<2.0.0,>=1.57.0->weaviate-client) (5.28.3)\n",
      "Requirement already satisfied: setuptools in /home/codespace/.local/lib/python3.12/site-packages (from grpcio-tools<2.0.0,>=1.57.0->weaviate-client) (75.1.0)\n",
      "Requirement already satisfied: anyio in /home/codespace/.local/lib/python3.12/site-packages (from httpx<=0.27.0,>=0.25.0->weaviate-client) (4.6.0)\n",
      "Requirement already satisfied: certifi in /home/codespace/.local/lib/python3.12/site-packages (from httpx<=0.27.0,>=0.25.0->weaviate-client) (2024.8.30)\n",
      "Requirement already satisfied: httpcore==1.* in /home/codespace/.local/lib/python3.12/site-packages (from httpx<=0.27.0,>=0.25.0->weaviate-client) (1.0.5)\n",
      "Requirement already satisfied: idna in /home/codespace/.local/lib/python3.12/site-packages (from httpx<=0.27.0,>=0.25.0->weaviate-client) (3.10)\n",
      "Requirement already satisfied: sniffio in /home/codespace/.local/lib/python3.12/site-packages (from httpx<=0.27.0,>=0.25.0->weaviate-client) (1.3.1)\n",
      "Requirement already satisfied: h11<0.15,>=0.13 in /home/codespace/.local/lib/python3.12/site-packages (from httpcore==1.*->httpx<=0.27.0,>=0.25.0->weaviate-client) (0.14.0)\n",
      "Requirement already satisfied: annotated-types>=0.6.0 in /usr/local/python/3.12.1/lib/python3.12/site-packages (from pydantic<3.0.0,>=2.5.0->weaviate-client) (0.7.0)\n",
      "Requirement already satisfied: pydantic-core==2.23.4 in /usr/local/python/3.12.1/lib/python3.12/site-packages (from pydantic<3.0.0,>=2.5.0->weaviate-client) (2.23.4)\n",
      "Requirement already satisfied: typing-extensions>=4.6.1 in /home/codespace/.local/lib/python3.12/site-packages (from pydantic<3.0.0,>=2.5.0->weaviate-client) (4.9.0)\n",
      "Requirement already satisfied: charset-normalizer<4,>=2 in /home/codespace/.local/lib/python3.12/site-packages (from requests<3.0.0,>=2.30.0->weaviate-client) (3.3.2)\n",
      "Requirement already satisfied: urllib3<3,>=1.21.1 in /home/codespace/.local/lib/python3.12/site-packages (from requests<3.0.0,>=2.30.0->weaviate-client) (2.2.3)\n",
      "Requirement already satisfied: cffi>=1.12 in /home/codespace/.local/lib/python3.12/site-packages (from cryptography->authlib<1.3.2,>=1.2.1->weaviate-client) (1.17.1)\n",
      "Requirement already satisfied: pycparser in /home/codespace/.local/lib/python3.12/site-packages (from cffi>=1.12->cryptography->authlib<1.3.2,>=1.2.1->weaviate-client) (2.22)\n"
     ]
    }
   ],
   "source": [
    "!pip install weaviate-client tqdm python-dotenv kagglehub"
   ]
  },
  {
   "cell_type": "code",
   "execution_count": 20,
   "metadata": {},
   "outputs": [],
   "source": [
    "from dotenv import load_dotenv\n",
    "import os\n",
    "import pandas as pd\n",
    "import requests\n",
    "from datetime import datetime, timezone\n",
    "import json\n",
    "from tqdm import tqdm\n",
    "\n",
    "import weaviate\n",
    "import weaviate.classes.config as wc\n",
    "import weaviate.classes.query as wq\n",
    "from weaviate.classes.init import Auth\n",
    "from weaviate.util import generate_uuid5"
   ]
  },
  {
   "cell_type": "markdown",
   "metadata": {},
   "source": [
    "### Create WCD Account (if you don't have one!!!)\n",
    "To connect to the Weaviate Cloud (WCD) instance, you need to use the **cluster URL** and the **API key**. You can find these details in the WCD Console."
   ]
  },
  {
   "cell_type": "code",
   "execution_count": 21,
   "metadata": {},
   "outputs": [
    {
     "name": "stdout",
     "output_type": "stream",
     "text": [
      "https://lmphqcwrtfopennuxlqd8g.c0.us-west3.gcp.weaviate.cloud\n"
     ]
    }
   ],
   "source": [
    "# Load environment variables from .env\n",
    "load_dotenv()\n",
    "\n",
    "# Access your variables\n",
    "CLUSTER_URL = os.getenv('CLUSTER_URL')\n",
    "WEAVIATE_API = os.getenv('WEAVIATE_API')\n",
    "OPENAI_API = os.getenv('OPENAI_API')\n",
    "\n",
    "print(CLUSTER_URL)  # your_secret_key_here"
   ]
  },
  {
   "cell_type": "markdown",
   "metadata": {},
   "source": [
    "Use the **connect_to_weaviate_cloud** function to connect to your WCD instance."
   ]
  },
  {
   "cell_type": "code",
   "execution_count": 22,
   "metadata": {},
   "outputs": [],
   "source": [
    "client = weaviate.connect_to_weaviate_cloud(\n",
    "    cluster_url=CLUSTER_URL,  # Replace with your WCD URL\n",
    "    auth_credentials=Auth.api_key(\n",
    "        WEAVIATE_API # Replace with your WCD key\n",
    "    ),\n",
    "    headers = {\"X-OpenAI-Api-Key\": OPENAI_API} \n",
    "    )"
   ]
  },
  {
   "cell_type": "markdown",
   "metadata": {},
   "source": [
    "Check Weaviate status"
   ]
  },
  {
   "cell_type": "code",
   "execution_count": 23,
   "metadata": {},
   "outputs": [],
   "source": [
    "assert client.is_live()  # This will raise an exception if the client is not live"
   ]
  },
  {
   "cell_type": "code",
   "execution_count": 24,
   "metadata": {},
   "outputs": [
    {
     "name": "stdout",
     "output_type": "stream",
     "text": [
      "{\n",
      "  \"hostname\": \"http://[::]:8080\",\n",
      "  \"modules\": {\n",
      "    \"backup-gcs\": {\n",
      "      \"bucketName\": \"weaviate-wcs-prod-cust-us-west3-workloads-backups\",\n",
      "      \"rootName\": \"2cca61a9-cc11-4c53-a978-d9d45cba83f2\"\n",
      "    },\n",
      "    \"generative-anthropic\": {\n",
      "      \"documentationHref\": \"https://docs.anthropic.com/en/api/getting-started\",\n",
      "      \"name\": \"Generative Search - Anthropic\"\n",
      "    },\n",
      "    \"generative-anyscale\": {\n",
      "      \"documentationHref\": \"https://docs.anyscale.com/endpoints/overview\",\n",
      "      \"name\": \"Generative Search - Anyscale\"\n",
      "    },\n",
      "    \"generative-aws\": {\n",
      "      \"documentationHref\": \"https://docs.aws.amazon.com/bedrock/latest/APIReference/welcome.html\",\n",
      "      \"name\": \"Generative Search - AWS\"\n",
      "    },\n",
      "    \"generative-cohere\": {\n",
      "      \"documentationHref\": \"https://docs.cohere.com/reference/chat\",\n",
      "      \"name\": \"Generative Search - Cohere\"\n",
      "    },\n",
      "    \"generative-databricks\": {\n",
      "      \"documentationHref\": \"https://docs.databricks.com/en/machine-learning/foundation-models/api-reference.html#completion-task\",\n",
      "      \"name\": \"Generative Search - Databricks\"\n",
      "    },\n",
      "    \"generative-friendliai\": {\n",
      "      \"documentationHref\": \"https://docs.friendli.ai/openapi/create-chat-completions\",\n",
      "      \"name\": \"Generative Search - FriendliAI\"\n",
      "    },\n",
      "    \"generative-google\": {\n",
      "      \"documentationHref\": \"https://cloud.google.com/vertex-ai/docs/generative-ai/chat/test-chat-prompts\",\n",
      "      \"name\": \"Generative Search - Google\"\n",
      "    },\n",
      "    \"generative-mistral\": {\n",
      "      \"documentationHref\": \"https://docs.mistral.ai/api/\",\n",
      "      \"name\": \"Generative Search - Mistral\"\n",
      "    },\n",
      "    \"generative-octoai\": {\n",
      "      \"documentationHref\": \"https://octo.ai/docs/text-gen-solution/getting-started\",\n",
      "      \"name\": \"Generative Search - OctoAI\"\n",
      "    },\n",
      "    \"generative-ollama\": {\n",
      "      \"documentationHref\": \"https://github.com/ollama/ollama/blob/main/docs/api.md#generate-a-completion\",\n",
      "      \"name\": \"Generative Search - Ollama\"\n",
      "    },\n",
      "    \"generative-openai\": {\n",
      "      \"documentationHref\": \"https://platform.openai.com/docs/api-reference/completions\",\n",
      "      \"name\": \"Generative Search - OpenAI\"\n",
      "    },\n",
      "    \"multi2vec-google\": {\n",
      "      \"documentationHref\": \"https://cloud.google.com/vertex-ai/generative-ai/docs/embeddings/get-multimodal-embeddings\",\n",
      "      \"name\": \"Google Multimodal Module\"\n",
      "    },\n",
      "    \"qna-openai\": {\n",
      "      \"documentationHref\": \"https://platform.openai.com/docs/api-reference/completions\",\n",
      "      \"name\": \"OpenAI Question & Answering Module\"\n",
      "    },\n",
      "    \"ref2vec-centroid\": {},\n",
      "    \"reranker-cohere\": {\n",
      "      \"documentationHref\": \"https://txt.cohere.com/rerank/\",\n",
      "      \"name\": \"Reranker - Cohere\"\n",
      "    },\n",
      "    \"reranker-jinaai\": {\n",
      "      \"documentationHref\": \"https://jina.ai/reranker\",\n",
      "      \"name\": \"Reranker - Jinaai\"\n",
      "    },\n",
      "    \"reranker-voyageai\": {\n",
      "      \"documentationHref\": \"https://docs.voyageai.com/reference/reranker-api\",\n",
      "      \"name\": \"Reranker - VoyageAI\"\n",
      "    },\n",
      "    \"text2vec-aws\": {\n",
      "      \"documentationHref\": \"https://docs.aws.amazon.com/bedrock/latest/userguide/titan-embedding-models.html\",\n",
      "      \"name\": \"AWS Module\"\n",
      "    },\n",
      "    \"text2vec-cohere\": {\n",
      "      \"documentationHref\": \"https://docs.cohere.ai/embedding-wiki/\",\n",
      "      \"name\": \"Cohere Module\"\n",
      "    },\n",
      "    \"text2vec-databricks\": {\n",
      "      \"documentationHref\": \"https://docs.databricks.com/en/machine-learning/foundation-models/api-reference.html#embedding-task\",\n",
      "      \"name\": \"Databricks Foundation Models Module - Embeddings\"\n",
      "    },\n",
      "    \"text2vec-google\": {\n",
      "      \"documentationHref\": \"https://cloud.google.com/vertex-ai/docs/generative-ai/embeddings/get-text-embeddings\",\n",
      "      \"name\": \"Google Module\"\n",
      "    },\n",
      "    \"text2vec-huggingface\": {\n",
      "      \"documentationHref\": \"https://huggingface.co/docs/api-inference/detailed_parameters#feature-extraction-task\",\n",
      "      \"name\": \"Hugging Face Module\"\n",
      "    },\n",
      "    \"text2vec-jinaai\": {\n",
      "      \"documentationHref\": \"https://jina.ai/embeddings/\",\n",
      "      \"name\": \"JinaAI Module\"\n",
      "    },\n",
      "    \"text2vec-mistral\": {\n",
      "      \"documentationHref\": \"https://docs.mistral.ai/api/#operation/createEmbedding\",\n",
      "      \"name\": \"Mistral Module\"\n",
      "    },\n",
      "    \"text2vec-octoai\": {\n",
      "      \"documentationHref\": \"https://octo.ai/docs/text-gen-solution/getting-started\",\n",
      "      \"name\": \"OctoAI Module\"\n",
      "    },\n",
      "    \"text2vec-ollama\": {\n",
      "      \"documentationHref\": \"https://github.com/ollama/ollama/blob/main/docs/api.md#generate-embeddings\",\n",
      "      \"name\": \"Ollama Module\"\n",
      "    },\n",
      "    \"text2vec-openai\": {\n",
      "      \"documentationHref\": \"https://platform.openai.com/docs/guides/embeddings/what-are-embeddings\",\n",
      "      \"name\": \"OpenAI Module\"\n",
      "    },\n",
      "    \"text2vec-voyageai\": {\n",
      "      \"documentationHref\": \"https://docs.voyageai.com/docs/embeddings\",\n",
      "      \"name\": \"VoyageAI Module\"\n",
      "    }\n",
      "  },\n",
      "  \"version\": \"1.26.7\"\n",
      "}\n"
     ]
    }
   ],
   "source": [
    "import json\n",
    "\n",
    "metainfo = client.get_meta()\n",
    "print(json.dumps(metainfo, indent=2))  # Print the meta information in a readable format"
   ]
  },
  {
   "cell_type": "markdown",
   "metadata": {},
   "source": [
    "### Source Data \n",
    "\n",
    "[Link text](https://example.com)\n",
    "We are going to use a movie dataset sourced from [TMDB](https://www.themoviedb.org/). The dataset can be found in this [GitHub repository](https://raw.githubusercontent.com/weaviate-tutorials/edu-datasets/main/movies_data_1990_2024.json), and it contains bibliographic information on ~700 movies released between 1990 and 2024."
   ]
  },
  {
   "cell_type": "code",
   "execution_count": 25,
   "metadata": {},
   "outputs": [
    {
     "data": {
      "text/html": [
       "<div>\n",
       "<style scoped>\n",
       "    .dataframe tbody tr th:only-of-type {\n",
       "        vertical-align: middle;\n",
       "    }\n",
       "\n",
       "    .dataframe tbody tr th {\n",
       "        vertical-align: top;\n",
       "    }\n",
       "\n",
       "    .dataframe thead th {\n",
       "        text-align: right;\n",
       "    }\n",
       "</style>\n",
       "<table border=\"1\" class=\"dataframe\">\n",
       "  <thead>\n",
       "    <tr style=\"text-align: right;\">\n",
       "      <th></th>\n",
       "      <th>backdrop_path</th>\n",
       "      <th>genre_ids</th>\n",
       "      <th>id</th>\n",
       "      <th>original_language</th>\n",
       "      <th>original_title</th>\n",
       "      <th>overview</th>\n",
       "      <th>popularity</th>\n",
       "      <th>poster_path</th>\n",
       "      <th>release_date</th>\n",
       "      <th>title</th>\n",
       "      <th>video</th>\n",
       "      <th>vote_average</th>\n",
       "      <th>vote_count</th>\n",
       "    </tr>\n",
       "  </thead>\n",
       "  <tbody>\n",
       "    <tr>\n",
       "      <th>0</th>\n",
       "      <td>/3Nn5BOM1EVw1IYrv6MsbOS6N1Ol.jpg</td>\n",
       "      <td>[14, 18, 10749]</td>\n",
       "      <td>162</td>\n",
       "      <td>en</td>\n",
       "      <td>Edward Scissorhands</td>\n",
       "      <td>A small suburban town receives a visit from a ...</td>\n",
       "      <td>45.694</td>\n",
       "      <td>/1RFIbuW9Z3eN9Oxw2KaQG5DfLmD.jpg</td>\n",
       "      <td>1990-12-07</td>\n",
       "      <td>Edward Scissorhands</td>\n",
       "      <td>False</td>\n",
       "      <td>7.7</td>\n",
       "      <td>12305</td>\n",
       "    </tr>\n",
       "    <tr>\n",
       "      <th>1</th>\n",
       "      <td>/sw7mordbZxgITU877yTpZCud90M.jpg</td>\n",
       "      <td>[18, 80]</td>\n",
       "      <td>769</td>\n",
       "      <td>en</td>\n",
       "      <td>GoodFellas</td>\n",
       "      <td>The true story of Henry Hill, a half-Irish, ha...</td>\n",
       "      <td>57.228</td>\n",
       "      <td>/aKuFiU82s5ISJpGZp7YkIr3kCUd.jpg</td>\n",
       "      <td>1990-09-12</td>\n",
       "      <td>GoodFellas</td>\n",
       "      <td>False</td>\n",
       "      <td>8.5</td>\n",
       "      <td>12106</td>\n",
       "    </tr>\n",
       "    <tr>\n",
       "      <th>2</th>\n",
       "      <td>/6uLhSLXzB1ooJ3522ydrBZ2Hh0W.jpg</td>\n",
       "      <td>[35, 10751]</td>\n",
       "      <td>771</td>\n",
       "      <td>en</td>\n",
       "      <td>Home Alone</td>\n",
       "      <td>Eight-year-old Kevin McCallister makes the mos...</td>\n",
       "      <td>3.538</td>\n",
       "      <td>/onTSipZ8R3bliBdKfPtsDuHTdlL.jpg</td>\n",
       "      <td>1990-11-16</td>\n",
       "      <td>Home Alone</td>\n",
       "      <td>False</td>\n",
       "      <td>7.4</td>\n",
       "      <td>10599</td>\n",
       "    </tr>\n",
       "    <tr>\n",
       "      <th>3</th>\n",
       "      <td>/vKp3NvqBkcjHkCHSGi6EbcP7g4J.jpg</td>\n",
       "      <td>[12, 35, 878]</td>\n",
       "      <td>196</td>\n",
       "      <td>en</td>\n",
       "      <td>Back to the Future Part III</td>\n",
       "      <td>The final installment of the Back to the Futur...</td>\n",
       "      <td>28.896</td>\n",
       "      <td>/crzoVQnMzIrRfHtQw0tLBirNfVg.jpg</td>\n",
       "      <td>1990-05-25</td>\n",
       "      <td>Back to the Future Part III</td>\n",
       "      <td>False</td>\n",
       "      <td>7.5</td>\n",
       "      <td>9918</td>\n",
       "    </tr>\n",
       "    <tr>\n",
       "      <th>4</th>\n",
       "      <td>/3tuWpnCTe14zZZPt6sI1W9ByOXx.jpg</td>\n",
       "      <td>[35, 10749]</td>\n",
       "      <td>114</td>\n",
       "      <td>en</td>\n",
       "      <td>Pretty Woman</td>\n",
       "      <td>When a millionaire wheeler-dealer enters a bus...</td>\n",
       "      <td>97.953</td>\n",
       "      <td>/hVHUfT801LQATGd26VPzhorIYza.jpg</td>\n",
       "      <td>1990-03-23</td>\n",
       "      <td>Pretty Woman</td>\n",
       "      <td>False</td>\n",
       "      <td>7.5</td>\n",
       "      <td>7671</td>\n",
       "    </tr>\n",
       "  </tbody>\n",
       "</table>\n",
       "</div>"
      ],
      "text/plain": [
       "                      backdrop_path        genre_ids   id original_language  \\\n",
       "0  /3Nn5BOM1EVw1IYrv6MsbOS6N1Ol.jpg  [14, 18, 10749]  162                en   \n",
       "1  /sw7mordbZxgITU877yTpZCud90M.jpg         [18, 80]  769                en   \n",
       "2  /6uLhSLXzB1ooJ3522ydrBZ2Hh0W.jpg      [35, 10751]  771                en   \n",
       "3  /vKp3NvqBkcjHkCHSGi6EbcP7g4J.jpg    [12, 35, 878]  196                en   \n",
       "4  /3tuWpnCTe14zZZPt6sI1W9ByOXx.jpg      [35, 10749]  114                en   \n",
       "\n",
       "                original_title  \\\n",
       "0          Edward Scissorhands   \n",
       "1                   GoodFellas   \n",
       "2                   Home Alone   \n",
       "3  Back to the Future Part III   \n",
       "4                 Pretty Woman   \n",
       "\n",
       "                                            overview  popularity  \\\n",
       "0  A small suburban town receives a visit from a ...      45.694   \n",
       "1  The true story of Henry Hill, a half-Irish, ha...      57.228   \n",
       "2  Eight-year-old Kevin McCallister makes the mos...       3.538   \n",
       "3  The final installment of the Back to the Futur...      28.896   \n",
       "4  When a millionaire wheeler-dealer enters a bus...      97.953   \n",
       "\n",
       "                        poster_path release_date                        title  \\\n",
       "0  /1RFIbuW9Z3eN9Oxw2KaQG5DfLmD.jpg   1990-12-07          Edward Scissorhands   \n",
       "1  /aKuFiU82s5ISJpGZp7YkIr3kCUd.jpg   1990-09-12                   GoodFellas   \n",
       "2  /onTSipZ8R3bliBdKfPtsDuHTdlL.jpg   1990-11-16                   Home Alone   \n",
       "3  /crzoVQnMzIrRfHtQw0tLBirNfVg.jpg   1990-05-25  Back to the Future Part III   \n",
       "4  /hVHUfT801LQATGd26VPzhorIYza.jpg   1990-03-23                 Pretty Woman   \n",
       "\n",
       "   video  vote_average  vote_count  \n",
       "0  False           7.7       12305  \n",
       "1  False           8.5       12106  \n",
       "2  False           7.4       10599  \n",
       "3  False           7.5        9918  \n",
       "4  False           7.5        7671  "
      ]
     },
     "execution_count": 25,
     "metadata": {},
     "output_type": "execute_result"
    }
   ],
   "source": [
    "import pandas as pd\n",
    "\n",
    "data_url = \"https://raw.githubusercontent.com/weaviate-tutorials/edu-datasets/main/movies_data_1990_2024.json\"\n",
    "resp = requests.get(data_url)\n",
    "df = pd.DataFrame(resp.json())\n",
    "df.head()"
   ]
  },
  {
   "cell_type": "code",
   "execution_count": 26,
   "metadata": {},
   "outputs": [
    {
     "data": {
      "text/plain": [
       "(680, 13)"
      ]
     },
     "execution_count": 26,
     "metadata": {},
     "output_type": "execute_result"
    }
   ],
   "source": [
    "df.shape"
   ]
  },
  {
   "cell_type": "markdown",
   "metadata": {},
   "source": [
    "### Create a collection\n",
    "Weaviate stores data in \"collections\". A collection is a set of objects that share the same data structure. In our movie database, we might have a collection of movies, a collection of actors, and a collection of reviews."
   ]
  },
  {
   "cell_type": "code",
   "execution_count": 27,
   "metadata": {},
   "outputs": [],
   "source": [
    "colname = \"Movie\"\n",
    "if not client.collections.exists(colname):\n",
    "    client.collections.create(\n",
    "        name=colname,\n",
    "        properties=[\n",
    "            wc.Property(name=\"title\", data_type=wc.DataType.TEXT),\n",
    "            wc.Property(name=\"overview\", data_type=wc.DataType.TEXT),\n",
    "            wc.Property(name=\"vote_average\", data_type=wc.DataType.NUMBER),\n",
    "            wc.Property(name=\"genre_ids\", data_type=wc.DataType.INT_ARRAY),\n",
    "            wc.Property(name=\"release_date\", data_type=wc.DataType.DATE),\n",
    "            wc.Property(name=\"tmdb_id\", data_type=wc.DataType.INT),\n",
    "        ],\n",
    "        # Define the vectorizer module\n",
    "        vectorizer_config=wc.Configure.Vectorizer.text2vec_openai(),\n",
    "        # Define the generative module\n",
    "        generative_config=wc.Configure.Generative.openai()\n",
    "    )\n",
    "\n",
    "    # client.close()"
   ]
  },
  {
   "cell_type": "code",
   "execution_count": null,
   "metadata": {},
   "outputs": [],
   "source": []
  },
  {
   "cell_type": "markdown",
   "metadata": {},
   "source": [
    "### Populate the collection\n",
    "\n",
    "This example imports the movie data into our collection.\n",
    "\n",
    "* Loads the source data & gets the collection\n",
    "* Enters a context manager with a batcher (batch) object\n",
    "* Loops through the data and adds objects to the batcher\n",
    "* Prints out any import errors"
   ]
  },
  {
   "cell_type": "code",
   "execution_count": 28,
   "metadata": {},
   "outputs": [
    {
     "name": "stderr",
     "output_type": "stream",
     "text": [
      "0it [00:00, ?it/s]"
     ]
    },
    {
     "name": "stderr",
     "output_type": "stream",
     "text": [
      "680it [00:00, 1649.72it/s]\n"
     ]
    }
   ],
   "source": [
    "# Get the collection\n",
    "movies = client.collections.get(\"Movie\")\n",
    "\n",
    "# Enter context manager\n",
    "with movies.batch.dynamic() as batch:\n",
    "    # Loop through the data\n",
    "    for i, movie in tqdm(df.iterrows()):\n",
    "        # Convert data types\n",
    "        # Convert a JSON date to `datetime` and add time zone information\n",
    "        release_date = datetime.strptime(movie[\"release_date\"], \"%Y-%m-%d\").replace(\n",
    "            tzinfo=timezone.utc\n",
    "        )\n",
    "        # Convert a JSON array to a list of integers\n",
    "        genre_ids = json.loads(movie[\"genre_ids\"])\n",
    "\n",
    "        # Build the object payload\n",
    "        movie_obj = {\n",
    "            \"title\": movie[\"title\"],\n",
    "            \"overview\": movie[\"overview\"],\n",
    "            \"vote_average\": movie[\"vote_average\"],\n",
    "            \"genre_ids\": genre_ids,\n",
    "            \"release_date\": release_date,\n",
    "            \"tmdb_id\": movie[\"id\"],\n",
    "        }\n",
    "\n",
    "        # Add object to batch queue\n",
    "        batch.add_object(\n",
    "            properties=movie_obj,\n",
    "            uuid=generate_uuid5(movie[\"id\"])\n",
    "        )\n",
    "        # Batcher automatically sends batches\n",
    "\n",
    "# Check for failed objects\n",
    "if len(movies.batch.failed_objects) > 0:\n",
    "    print(f\"Failed to import {len(movies.batch.failed_objects)} objects\")\n",
    "\n",
    "# client.close()"
   ]
  },
  {
   "cell_type": "markdown",
   "metadata": {},
   "source": [
    "### Semantic Search\n",
    "This example finds entries in \"Movie\" based on their similarity to the query \"dystopian future\", and prints out the title and release year of the top 5 matches."
   ]
  },
  {
   "cell_type": "code",
   "execution_count": 29,
   "metadata": {},
   "outputs": [
    {
     "name": "stdout",
     "output_type": "stream",
     "text": [
      "In Time 2011\n",
      "Distance to query: 0.219\n",
      "\n",
      "Parasite 2019\n",
      "Distance to query: 0.227\n",
      "\n",
      "The Pursuit of Happyness 2006\n",
      "Distance to query: 0.227\n",
      "\n",
      "City of God 2002\n",
      "Distance to query: 0.229\n",
      "\n",
      "Me Before You 2016\n",
      "Distance to query: 0.234\n",
      "\n"
     ]
    }
   ],
   "source": [
    "# Get the collection\n",
    "movies = client.collections.get(\"Movie\")\n",
    "\n",
    "# Perform query\n",
    "response = movies.query.near_text(\n",
    "    query=\"poverty\", limit=5, return_metadata=wq.MetadataQuery(distance=True)\n",
    ")\n",
    "\n",
    "# Inspect the response\n",
    "for o in response.objects:\n",
    "    print(\n",
    "        o.properties[\"title\"], o.properties[\"release_date\"].year\n",
    "    )  # Print the title and release year (note the release date is a datetime object)\n",
    "    print(\n",
    "        f\"Distance to query: {o.metadata.distance:.3f}\\n\"\n",
    "    )  # Print the distance of the object from the query\n",
    "\n",
    "# client.close()"
   ]
  },
  {
   "cell_type": "code",
   "execution_count": 30,
   "metadata": {},
   "outputs": [
    {
     "data": {
      "text/html": [
       "<div>\n",
       "<style scoped>\n",
       "    .dataframe tbody tr th:only-of-type {\n",
       "        vertical-align: middle;\n",
       "    }\n",
       "\n",
       "    .dataframe tbody tr th {\n",
       "        vertical-align: top;\n",
       "    }\n",
       "\n",
       "    .dataframe thead th {\n",
       "        text-align: right;\n",
       "    }\n",
       "</style>\n",
       "<table border=\"1\" class=\"dataframe\">\n",
       "  <thead>\n",
       "    <tr style=\"text-align: right;\">\n",
       "      <th></th>\n",
       "      <th>backdrop_path</th>\n",
       "      <th>genre_ids</th>\n",
       "      <th>id</th>\n",
       "      <th>original_language</th>\n",
       "      <th>original_title</th>\n",
       "      <th>overview</th>\n",
       "      <th>popularity</th>\n",
       "      <th>poster_path</th>\n",
       "      <th>release_date</th>\n",
       "      <th>title</th>\n",
       "      <th>video</th>\n",
       "      <th>vote_average</th>\n",
       "      <th>vote_count</th>\n",
       "    </tr>\n",
       "  </thead>\n",
       "  <tbody>\n",
       "    <tr>\n",
       "      <th>329</th>\n",
       "      <td>/nKOQiWjhv6LXXSR3PiIab3LrKtU.jpg</td>\n",
       "      <td>[18]</td>\n",
       "      <td>1402</td>\n",
       "      <td>en</td>\n",
       "      <td>The Pursuit of Happyness</td>\n",
       "      <td>A struggling salesman takes custody of his son...</td>\n",
       "      <td>44.821</td>\n",
       "      <td>/f6l9rghSHORkWLurUGJhaKAiyjY.jpg</td>\n",
       "      <td>2006-12-14</td>\n",
       "      <td>The Pursuit of Happyness</td>\n",
       "      <td>False</td>\n",
       "      <td>7.9</td>\n",
       "      <td>9370</td>\n",
       "    </tr>\n",
       "  </tbody>\n",
       "</table>\n",
       "</div>"
      ],
      "text/plain": [
       "                        backdrop_path genre_ids    id original_language  \\\n",
       "329  /nKOQiWjhv6LXXSR3PiIab3LrKtU.jpg      [18]  1402                en   \n",
       "\n",
       "               original_title  \\\n",
       "329  The Pursuit of Happyness   \n",
       "\n",
       "                                              overview  popularity  \\\n",
       "329  A struggling salesman takes custody of his son...      44.821   \n",
       "\n",
       "                          poster_path release_date                     title  \\\n",
       "329  /f6l9rghSHORkWLurUGJhaKAiyjY.jpg   2006-12-14  The Pursuit of Happyness   \n",
       "\n",
       "     video  vote_average  vote_count  \n",
       "329  False           7.9        9370  "
      ]
     },
     "execution_count": 30,
     "metadata": {},
     "output_type": "execute_result"
    }
   ],
   "source": [
    "df[df[\"title\"]==\"The Pursuit of Happyness\"]"
   ]
  },
  {
   "cell_type": "code",
   "execution_count": 31,
   "metadata": {},
   "outputs": [],
   "source": [
    "# A struggling salesman takes custody of his son as he's poised to begin a life-changing professional career"
   ]
  },
  {
   "cell_type": "markdown",
   "metadata": {},
   "source": [
    "### Keyword search\n",
    "\n",
    "This example finds entries in \"Movie\" with the highest keyword search scores for the term \"history\", and prints out the title and release year of the top 5 matches."
   ]
  },
  {
   "cell_type": "code",
   "execution_count": 32,
   "metadata": {},
   "outputs": [
    {
     "name": "stdout",
     "output_type": "stream",
     "text": [
      "American History X 1998\n",
      "BM25 score: 2.707\n",
      "\n",
      "A Beautiful Mind 2001\n",
      "BM25 score: 1.896\n",
      "\n",
      "Legends of the Fall 1994\n",
      "BM25 score: 1.663\n",
      "\n",
      "Hacksaw Ridge 2016\n",
      "BM25 score: 1.554\n",
      "\n",
      "Night at the Museum 2006\n",
      "BM25 score: 1.529\n",
      "\n"
     ]
    }
   ],
   "source": [
    "\n",
    "# Get the collection\n",
    "movies = client.collections.get(\"Movie\")\n",
    "\n",
    "# Perform query\n",
    "response = movies.query.bm25(\n",
    "    query=\"history\", limit=5, return_metadata=wq.MetadataQuery(score=True)\n",
    ")\n",
    "\n",
    "# Inspect the response\n",
    "for o in response.objects:\n",
    "    print(\n",
    "        o.properties[\"title\"], o.properties[\"release_date\"].year\n",
    "    )  # Print the title and release year (note the release date is a datetime object)\n",
    "    print(\n",
    "        f\"BM25 score: {o.metadata.score:.3f}\\n\"\n",
    "    )  # Print the BM25 score of the object from the query\n",
    "\n",
    "# client.close()"
   ]
  },
  {
   "cell_type": "markdown",
   "metadata": {},
   "source": [
    "The above results are based on a keyword search score using what's called the [BM25f](https://en.wikipedia.org/wiki/Okapi_BM25) algorithm."
   ]
  },
  {
   "cell_type": "markdown",
   "metadata": {},
   "source": [
    "### Hybrid search\n",
    "\n",
    "This example finds entries in \"Movie\" with the highest hybrid search scores for the term \"history\", and prints out the title and release year of the top 5 matches."
   ]
  },
  {
   "cell_type": "code",
   "execution_count": 33,
   "metadata": {},
   "outputs": [
    {
     "name": "stdout",
     "output_type": "stream",
     "text": [
      "Legends of the Fall 1994\n",
      "Hybrid score: 0.822\n",
      "\n",
      "Hacksaw Ridge 2016\n",
      "Hybrid score: 0.658\n",
      "\n",
      "Oppenheimer 2023\n",
      "Hybrid score: 0.608\n",
      "\n",
      "A Beautiful Mind 2001\n",
      "Hybrid score: 0.528\n",
      "\n",
      "The Notebook 2004\n",
      "Hybrid score: 0.510\n",
      "\n"
     ]
    }
   ],
   "source": [
    "# Get the collection\n",
    "movies = client.collections.get(\"Movie\")\n",
    "\n",
    "# Perform query\n",
    "response = movies.query.hybrid(\n",
    "    query=\"history\", limit=5, return_metadata=wq.MetadataQuery(score=True)\n",
    ")\n",
    "\n",
    "# Inspect the response\n",
    "for o in response.objects:\n",
    "    print(\n",
    "        o.properties[\"title\"], o.properties[\"release_date\"].year\n",
    "    )  # Print the title and release year (note the release date is a datetime object)\n",
    "    print(\n",
    "        f\"Hybrid score: {o.metadata.score:.3f}\\n\"\n",
    "    )  # Print the hybrid search score of the object from the query"
   ]
  },
  {
   "cell_type": "markdown",
   "metadata": {},
   "source": [
    "The results are based on a hybrid search score. A hybrid search blends results of BM25 and semantic/vector searches."
   ]
  },
  {
   "cell_type": "markdown",
   "metadata": {},
   "source": [
    "### Filters\n",
    "Filters can be used to precisely refine search results. You can filter by properties as well as metadata, and you can combine multiple filters with and or or conditions to further narrow down the results"
   ]
  },
  {
   "cell_type": "code",
   "execution_count": 34,
   "metadata": {},
   "outputs": [
    {
     "name": "stderr",
     "output_type": "stream",
     "text": [
      "/usr/local/python/3.12.1/lib/python3.12/site-packages/weaviate/warnings.py:244: UserWarning: Con002: You are using the datetime object 2010-01-01 00:00:00 without a timezone. The timezone will be set to UTC.\n",
      "            To use a different timezone, specify it in the datetime object. For example:\n",
      "            datetime.datetime(2021, 1, 1, 0, 0, 0, tzinfo=datetime.timezone(-datetime.timedelta(hours=2))).isoformat() = 2021-01-01T00:00:00-02:00\n",
      "            \n",
      "  warnings.warn(\n"
     ]
    },
    {
     "name": "stdout",
     "output_type": "stream",
     "text": [
      "In Time 2011\n",
      "Distance to query: 0.219\n",
      "\n",
      "Parasite 2019\n",
      "Distance to query: 0.227\n",
      "\n",
      "Me Before You 2016\n",
      "Distance to query: 0.234\n",
      "\n",
      "The Help 2011\n",
      "Distance to query: 0.238\n",
      "\n",
      "The Intouchables 2011\n",
      "Distance to query: 0.241\n",
      "\n"
     ]
    }
   ],
   "source": [
    "# Get the collection\n",
    "movies = client.collections.get(\"Movie\")\n",
    "\n",
    "# Perform query\n",
    "response = movies.query.near_text(\n",
    "    query=\"poverty\",\n",
    "    limit=5,\n",
    "    return_metadata=wq.MetadataQuery(distance=True),\n",
    "    filters=wq.Filter.by_property(\"release_date\").greater_than(datetime(2010, 1, 1))\n",
    ")\n",
    "\n",
    "# Inspect the response\n",
    "for o in response.objects:\n",
    "    print(\n",
    "        o.properties[\"title\"], o.properties[\"release_date\"].year\n",
    "    )  # Print the title and release year (note the release date is a datetime object)\n",
    "    print(\n",
    "        f\"Distance to query: {o.metadata.distance:.3f}\\n\"\n",
    "    )  # Print the distance of the object from the query\n"
   ]
  },
  {
   "cell_type": "markdown",
   "metadata": {},
   "source": [
    "### RAG: Overview\n",
    "\n",
    "Retrieval augmented generation (RAG) is a way to combine the best of both worlds: the retrieval capabilities of semantic search and the generation capabilities of AI models such as large language models. This allows you to retrieve objects from a Weaviate instance and then generate outputs based on the retrieved objects\n",
    "\n",
    "When we created a collection, we specified the generative_module parameter as shown here:\n",
    "\n",
    "```python\n",
    "generative_config=wc.Configure.Generative.openai()\n",
    "```\n",
    "\n",
    "This selects a generative module that will be used to generate outputs based on the retrieved objects. In this case, we're using the openai module, and the GPT family of large language models.\n",
    "\n",
    "As we did before with the vectorizer module, you will require an API key from the provider of the generative module. In this case, you will need an API key from OpenAI.\n",
    "\n",
    "### RAG queries\n",
    "\n",
    "RAG queries are also called 'generative' queries in Weaviate. You can access these functions through the generate submodule of the collection object.\n",
    "\n",
    "Each generative query works in addition to the regular search query, and will perform a RAG query on each retrieved object.\n",
    "\n"
   ]
  },
  {
   "cell_type": "markdown",
   "metadata": {},
   "source": [
    "### Single Prompt"
   ]
  },
  {
   "cell_type": "code",
   "execution_count": 35,
   "metadata": {},
   "outputs": [
    {
     "name": "stdout",
     "output_type": "stream",
     "text": [
      "In Time\n",
      "நேரத்தில் (Nerathil)\n",
      "Gattaca\n",
      "கட்டாக்கா (Gattaca)\n",
      "I, Robot\n",
      "நான், இயந்திரம்\n",
      "Mad Max: Fury Road\n",
      "மேட் மேக்ஸ்: ஃபுரி ரோட்\n",
      "The Maze Runner\n",
      "தி மேஸ் ரன்னர்\n"
     ]
    }
   ],
   "source": [
    "# Get the collection\n",
    "movies = client.collections.get(\"Movie\")\n",
    "\n",
    "# Perform query\n",
    "response = movies.generate.near_text(\n",
    "    query=\"dystopian future\",\n",
    "    limit=5,\n",
    "    single_prompt=\"Translate this into Tamil: {title}\"\n",
    ")\n",
    "\n",
    "# Inspect the response\n",
    "for o in response.objects:\n",
    "    print(o.properties[\"title\"])  # Print the title\n",
    "    print(o.generated)  # Print the generated text (the title, in French)\n",
    "\n",
    "# client.close()"
   ]
  },
  {
   "cell_type": "markdown",
   "metadata": {},
   "source": [
    "### Grouped task generation"
   ]
  },
  {
   "cell_type": "code",
   "execution_count": 36,
   "metadata": {},
   "outputs": [
    {
     "name": "stdout",
     "output_type": "stream",
     "text": [
      "In Time\n",
      "Parasite\n",
      "The Pursuit of Happyness\n",
      "City of God\n",
      "Me Before You\n",
      "Struggle, Class Divide, Redemption\n"
     ]
    }
   ],
   "source": [
    "# Get the collection\n",
    "movies = client.collections.get(\"Movie\")\n",
    "\n",
    "# Perform query\n",
    "response = movies.generate.near_text(\n",
    "    query=\"poverty\",\n",
    "    limit=5,\n",
    "    grouped_task=\"What do these movies have in common. Can you summarize this in one word? you can give upto 3 choices\",\n",
    "    # grouped_properties=[\"title\", \"overview\"]  # Optional parameter; for reducing prompt length\n",
    ")\n",
    "\n",
    "# Inspect the response\n",
    "for o in response.objects:\n",
    "    print(o.properties[\"title\"])  # Print the title\n",
    "print(response.generated)"
   ]
  },
  {
   "cell_type": "markdown",
   "metadata": {},
   "source": [
    "Exercise - Lets put what we learnt so far into action"
   ]
  },
  {
   "cell_type": "code",
   "execution_count": 37,
   "metadata": {},
   "outputs": [
    {
     "data": {
      "text/html": [
       "<div>\n",
       "<style scoped>\n",
       "    .dataframe tbody tr th:only-of-type {\n",
       "        vertical-align: middle;\n",
       "    }\n",
       "\n",
       "    .dataframe tbody tr th {\n",
       "        vertical-align: top;\n",
       "    }\n",
       "\n",
       "    .dataframe thead th {\n",
       "        text-align: right;\n",
       "    }\n",
       "</style>\n",
       "<table border=\"1\" class=\"dataframe\">\n",
       "  <thead>\n",
       "    <tr style=\"text-align: right;\">\n",
       "      <th></th>\n",
       "      <th>topic</th>\n",
       "      <th>link</th>\n",
       "      <th>domain</th>\n",
       "      <th>published_date</th>\n",
       "      <th>title</th>\n",
       "      <th>lang</th>\n",
       "      <th>id</th>\n",
       "    </tr>\n",
       "  </thead>\n",
       "  <tbody>\n",
       "    <tr>\n",
       "      <th>0</th>\n",
       "      <td>SCIENCE</td>\n",
       "      <td>https://www.eurekalert.org/pub_releases/2020-0...</td>\n",
       "      <td>eurekalert.org</td>\n",
       "      <td>2020-08-06 13:59:45</td>\n",
       "      <td>A closer look at water-splitting's solar fuel ...</td>\n",
       "      <td>en</td>\n",
       "      <td>0</td>\n",
       "    </tr>\n",
       "    <tr>\n",
       "      <th>1</th>\n",
       "      <td>SCIENCE</td>\n",
       "      <td>https://www.pulse.ng/news/world/an-irresistibl...</td>\n",
       "      <td>pulse.ng</td>\n",
       "      <td>2020-08-12 15:14:19</td>\n",
       "      <td>An irresistible scent makes locusts swarm, stu...</td>\n",
       "      <td>en</td>\n",
       "      <td>1</td>\n",
       "    </tr>\n",
       "    <tr>\n",
       "      <th>2</th>\n",
       "      <td>SCIENCE</td>\n",
       "      <td>https://www.express.co.uk/news/science/1322607...</td>\n",
       "      <td>express.co.uk</td>\n",
       "      <td>2020-08-13 21:01:00</td>\n",
       "      <td>Artificial intelligence warning: AI will know ...</td>\n",
       "      <td>en</td>\n",
       "      <td>2</td>\n",
       "    </tr>\n",
       "    <tr>\n",
       "      <th>3</th>\n",
       "      <td>SCIENCE</td>\n",
       "      <td>https://www.ndtv.com/world-news/glaciers-could...</td>\n",
       "      <td>ndtv.com</td>\n",
       "      <td>2020-08-03 22:18:26</td>\n",
       "      <td>Glaciers Could Have Sculpted Mars Valleys: Study</td>\n",
       "      <td>en</td>\n",
       "      <td>3</td>\n",
       "    </tr>\n",
       "    <tr>\n",
       "      <th>4</th>\n",
       "      <td>SCIENCE</td>\n",
       "      <td>https://www.thesun.ie/tech/5742187/perseid-met...</td>\n",
       "      <td>thesun.ie</td>\n",
       "      <td>2020-08-12 19:54:36</td>\n",
       "      <td>Perseid meteor shower 2020: What time and how ...</td>\n",
       "      <td>en</td>\n",
       "      <td>4</td>\n",
       "    </tr>\n",
       "  </tbody>\n",
       "</table>\n",
       "</div>"
      ],
      "text/plain": [
       "     topic                                               link          domain  \\\n",
       "0  SCIENCE  https://www.eurekalert.org/pub_releases/2020-0...  eurekalert.org   \n",
       "1  SCIENCE  https://www.pulse.ng/news/world/an-irresistibl...        pulse.ng   \n",
       "2  SCIENCE  https://www.express.co.uk/news/science/1322607...   express.co.uk   \n",
       "3  SCIENCE  https://www.ndtv.com/world-news/glaciers-could...        ndtv.com   \n",
       "4  SCIENCE  https://www.thesun.ie/tech/5742187/perseid-met...       thesun.ie   \n",
       "\n",
       "        published_date                                              title  \\\n",
       "0  2020-08-06 13:59:45  A closer look at water-splitting's solar fuel ...   \n",
       "1  2020-08-12 15:14:19  An irresistible scent makes locusts swarm, stu...   \n",
       "2  2020-08-13 21:01:00  Artificial intelligence warning: AI will know ...   \n",
       "3  2020-08-03 22:18:26   Glaciers Could Have Sculpted Mars Valleys: Study   \n",
       "4  2020-08-12 19:54:36  Perseid meteor shower 2020: What time and how ...   \n",
       "\n",
       "  lang  id  \n",
       "0   en   0  \n",
       "1   en   1  \n",
       "2   en   2  \n",
       "3   en   3  \n",
       "4   en   4  "
      ]
     },
     "execution_count": 37,
     "metadata": {},
     "output_type": "execute_result"
    }
   ],
   "source": [
    "# Lets source new data\n",
    "data_csv = \"/workspaces/odsc_west_intro_vector_db/labelled_newscatcher_dataset.csv\"\n",
    "df = pd.read_csv(data_csv,sep=\";\")\n",
    "df[\"id\"] = df.index\n",
    "df.head()"
   ]
  },
  {
   "cell_type": "code",
   "execution_count": 38,
   "metadata": {},
   "outputs": [
    {
     "data": {
      "text/plain": [
       "(108774, 7)"
      ]
     },
     "execution_count": 38,
     "metadata": {},
     "output_type": "execute_result"
    }
   ],
   "source": [
    "df.shape"
   ]
  },
  {
   "cell_type": "code",
   "execution_count": 39,
   "metadata": {},
   "outputs": [],
   "source": [
    "client = weaviate.connect_to_weaviate_cloud(\n",
    "    cluster_url=CLUSTER_URL,  # Replace with your WCD URL\n",
    "    auth_credentials=Auth.api_key(\n",
    "        WEAVIATE_API # Replace with your WCD key\n",
    "    ),\n",
    "    headers = {\"X-OpenAI-Api-Key\": OPENAI_API} \n",
    "    )"
   ]
  },
  {
   "cell_type": "code",
   "execution_count": 60,
   "metadata": {},
   "outputs": [
    {
     "name": "stdout",
     "output_type": "stream",
     "text": [
      "Deleting existing collection...News\n",
      "Creating new collection...News\n"
     ]
    }
   ],
   "source": [
    "# Create the collection\n",
    "colname = \"News\"\n",
    "# If the class exists before, we will delete it first\n",
    "if client.collections.exists(colname):\n",
    "    print(\"Deleting existing collection...News\")\n",
    "    client.collections.delete(colname)\n",
    "    print(\"Creating new collection...News\")\n",
    "    client.collections.create(\n",
    "        name=colname,\n",
    "        properties=[\n",
    "            wc.Property(name=\"topic\", data_type=wc.DataType.TEXT),\n",
    "            wc.Property(name=\"link\", data_type=wc.DataType.TEXT),\n",
    "            wc.Property(name=\"domain\", data_type=wc.DataType.TEXT),\n",
    "            wc.Property(name=\"published_date\", data_type=wc.DataType.DATE),\n",
    "            wc.Property(name=\"title\", data_type=wc.DataType.TEXT),\n",
    "            wc.Property(name=\"lang\", data_type=wc.DataType.TEXT),\n",
    "        ],\n",
    "        # Define the vectorizer module\n",
    "        vectorizer_config=wc.Configure.Vectorizer.text2vec_openai(),\n",
    "        # Define the generative module\n",
    "        generative_config=wc.Configure.Generative.openai()\n",
    "    )\n",
    "\n",
    "    # client.close()"
   ]
  },
  {
   "cell_type": "code",
   "execution_count": 62,
   "metadata": {},
   "outputs": [
    {
     "data": {
      "text/html": [
       "<div>\n",
       "<style scoped>\n",
       "    .dataframe tbody tr th:only-of-type {\n",
       "        vertical-align: middle;\n",
       "    }\n",
       "\n",
       "    .dataframe tbody tr th {\n",
       "        vertical-align: top;\n",
       "    }\n",
       "\n",
       "    .dataframe thead th {\n",
       "        text-align: right;\n",
       "    }\n",
       "</style>\n",
       "<table border=\"1\" class=\"dataframe\">\n",
       "  <thead>\n",
       "    <tr style=\"text-align: right;\">\n",
       "      <th></th>\n",
       "      <th>topic</th>\n",
       "      <th>link</th>\n",
       "      <th>domain</th>\n",
       "      <th>published_date</th>\n",
       "      <th>title</th>\n",
       "      <th>lang</th>\n",
       "      <th>id</th>\n",
       "    </tr>\n",
       "  </thead>\n",
       "  <tbody>\n",
       "    <tr>\n",
       "      <th>0</th>\n",
       "      <td>SCIENCE</td>\n",
       "      <td>https://www.eurekalert.org/pub_releases/2020-0...</td>\n",
       "      <td>eurekalert.org</td>\n",
       "      <td>2020-08-06 13:59:45</td>\n",
       "      <td>A closer look at water-splitting's solar fuel ...</td>\n",
       "      <td>en</td>\n",
       "      <td>0</td>\n",
       "    </tr>\n",
       "    <tr>\n",
       "      <th>1</th>\n",
       "      <td>SCIENCE</td>\n",
       "      <td>https://www.pulse.ng/news/world/an-irresistibl...</td>\n",
       "      <td>pulse.ng</td>\n",
       "      <td>2020-08-12 15:14:19</td>\n",
       "      <td>An irresistible scent makes locusts swarm, stu...</td>\n",
       "      <td>en</td>\n",
       "      <td>1</td>\n",
       "    </tr>\n",
       "    <tr>\n",
       "      <th>2</th>\n",
       "      <td>SCIENCE</td>\n",
       "      <td>https://www.express.co.uk/news/science/1322607...</td>\n",
       "      <td>express.co.uk</td>\n",
       "      <td>2020-08-13 21:01:00</td>\n",
       "      <td>Artificial intelligence warning: AI will know ...</td>\n",
       "      <td>en</td>\n",
       "      <td>2</td>\n",
       "    </tr>\n",
       "    <tr>\n",
       "      <th>3</th>\n",
       "      <td>SCIENCE</td>\n",
       "      <td>https://www.ndtv.com/world-news/glaciers-could...</td>\n",
       "      <td>ndtv.com</td>\n",
       "      <td>2020-08-03 22:18:26</td>\n",
       "      <td>Glaciers Could Have Sculpted Mars Valleys: Study</td>\n",
       "      <td>en</td>\n",
       "      <td>3</td>\n",
       "    </tr>\n",
       "    <tr>\n",
       "      <th>4</th>\n",
       "      <td>SCIENCE</td>\n",
       "      <td>https://www.thesun.ie/tech/5742187/perseid-met...</td>\n",
       "      <td>thesun.ie</td>\n",
       "      <td>2020-08-12 19:54:36</td>\n",
       "      <td>Perseid meteor shower 2020: What time and how ...</td>\n",
       "      <td>en</td>\n",
       "      <td>4</td>\n",
       "    </tr>\n",
       "  </tbody>\n",
       "</table>\n",
       "</div>"
      ],
      "text/plain": [
       "     topic                                               link          domain  \\\n",
       "0  SCIENCE  https://www.eurekalert.org/pub_releases/2020-0...  eurekalert.org   \n",
       "1  SCIENCE  https://www.pulse.ng/news/world/an-irresistibl...        pulse.ng   \n",
       "2  SCIENCE  https://www.express.co.uk/news/science/1322607...   express.co.uk   \n",
       "3  SCIENCE  https://www.ndtv.com/world-news/glaciers-could...        ndtv.com   \n",
       "4  SCIENCE  https://www.thesun.ie/tech/5742187/perseid-met...       thesun.ie   \n",
       "\n",
       "       published_date                                              title lang  \\\n",
       "0 2020-08-06 13:59:45  A closer look at water-splitting's solar fuel ...   en   \n",
       "1 2020-08-12 15:14:19  An irresistible scent makes locusts swarm, stu...   en   \n",
       "2 2020-08-13 21:01:00  Artificial intelligence warning: AI will know ...   en   \n",
       "3 2020-08-03 22:18:26   Glaciers Could Have Sculpted Mars Valleys: Study   en   \n",
       "4 2020-08-12 19:54:36  Perseid meteor shower 2020: What time and how ...   en   \n",
       "\n",
       "   id  \n",
       "0   0  \n",
       "1   1  \n",
       "2   2  \n",
       "3   3  \n",
       "4   4  "
      ]
     },
     "execution_count": 62,
     "metadata": {},
     "output_type": "execute_result"
    }
   ],
   "source": [
    "df[\"published_date\"]  = pd.to_datetime(df[\"published_date\"])\n",
    "df=df[:10000]\n",
    "df.reset_index(drop=True)\n",
    "df.head()"
   ]
  },
  {
   "cell_type": "code",
   "execution_count": 63,
   "metadata": {},
   "outputs": [
    {
     "data": {
      "text/plain": [
       "(10000, 7)"
      ]
     },
     "execution_count": 63,
     "metadata": {},
     "output_type": "execute_result"
    }
   ],
   "source": [
    "df.shape"
   ]
  },
  {
   "cell_type": "markdown",
   "metadata": {},
   "source": []
  },
  {
   "cell_type": "code",
   "execution_count": 64,
   "metadata": {},
   "outputs": [
    {
     "name": "stderr",
     "output_type": "stream",
     "text": [
      "0it [00:00, ?it/s]"
     ]
    },
    {
     "name": "stderr",
     "output_type": "stream",
     "text": [
      "10000it [00:27, 370.16it/s]\n"
     ]
    }
   ],
   "source": [
    "# populate the collection\n",
    "# Get the collection\n",
    "news_collection = client.collections.get(\"News\")\n",
    "\n",
    "# Enter context manager\n",
    "with news_collection.batch.dynamic() as batch:\n",
    "    # Loop through the data\n",
    "    for i, news in tqdm(df.iterrows()):\n",
    "        \n",
    "        # Build the object payload\n",
    "        news_obj = {\n",
    "            \"topic\": news[\"topic\"],\n",
    "            \"link\": news[\"link\"],\n",
    "            \"domain\": news[\"domain\"],\n",
    "            \"published_date\": news[\"published_date\"],\n",
    "            \"title\": news[\"title\"],\n",
    "            \"lang\": news[\"lang\"],\n",
    "        }\n",
    "\n",
    "        # Add object to batch queue\n",
    "        batch.add_object(\n",
    "            properties=news_obj,\n",
    "            uuid=generate_uuid5(news[\"id\"])\n",
    "        )\n",
    "        # Batcher automatically sends batches\n",
    "\n",
    "# Check for failed objects\n",
    "if len(news_collection.batch.failed_objects) > 0:\n",
    "    print(f\"Failed to import {len(news_collection.batch.failed_objects)} objects\")\n",
    "\n",
    "# client.close()"
   ]
  },
  {
   "cell_type": "code",
   "execution_count": 73,
   "metadata": {},
   "outputs": [
    {
     "name": "stdout",
     "output_type": "stream",
     "text": [
      "Borno police parades 45 criminal suspects for various offences WORLD\n",
      "Distance to query: 0.185\n",
      "\n",
      "Senior Comanchero member admits drug charges, money laundering ahead of trial WORLD\n",
      "Distance to query: 0.188\n",
      "\n",
      "21 of the youngest criminals locked up in 2020 so far on Teesside HEALTH\n",
      "Distance to query: 0.189\n",
      "\n",
      "Comanchero gang raids: Jarome Fonua pleads guilty to money laundering, participating in an organised criminal group WORLD\n",
      "Distance to query: 0.189\n",
      "\n",
      "India rape: Two men arrested for 13-year-old's rape and murder WORLD\n",
      "Distance to query: 0.189\n",
      "\n"
     ]
    }
   ],
   "source": [
    "#semantic search\n",
    "\n",
    "# Get the collection\n",
    "news = client.collections.get(\"News\")\n",
    "\n",
    "# Perform query\n",
    "response = news.query.near_text(\n",
    "    query=\"crime\", limit=5, return_metadata=wq.MetadataQuery(distance=True)\n",
    ")\n",
    "\n",
    "# Inspect the response\n",
    "for o in response.objects:\n",
    "    print(\n",
    "        o.properties[\"title\"], o.properties[\"topic\"]\n",
    "    )  # Print the title and topic\n",
    "    print(\n",
    "        f\"Distance to query: {o.metadata.distance:.3f}\\n\"\n",
    "    )  # Print the distance of the object from the query\n",
    "\n",
    "# client.close()"
   ]
  },
  {
   "cell_type": "code",
   "execution_count": 74,
   "metadata": {},
   "outputs": [
    {
     "name": "stdout",
     "output_type": "stream",
     "text": [
      "Rhino poaching – not just an environmental crime WORLD\n",
      "BM25 score: 2.309\n",
      "\n",
      "What the jury in the trial of Aaron Brady did not hear WORLD\n",
      "BM25 score: 2.303\n",
      "\n",
      "Beirut explosion: Investigators given four days to get to bottom of ‘crime’ WORLD\n",
      "BM25 score: 1.925\n",
      "\n",
      "'Barbaric' Horse Killings Put French Countryside on Alert HEALTH\n",
      "BM25 score: 1.921\n",
      "\n",
      "Ways AI could be used to facilitate crime over the next 15 years TECHNOLOGY\n",
      "BM25 score: 1.886\n",
      "\n"
     ]
    }
   ],
   "source": [
    "# keyword search\n",
    "\n",
    "# Get the collection\n",
    "news = client.collections.get(\"News\")\n",
    "\n",
    "# Perform query\n",
    "response = news.query.bm25(\n",
    "    query=\"crime\", limit=5, return_metadata=wq.MetadataQuery(score=True)\n",
    ")\n",
    "\n",
    "# Inspect the response\n",
    "for o in response.objects:\n",
    "    print(\n",
    "        o.properties[\"title\"], o.properties[\"topic\"]\n",
    "    )  # Print the title and topic\n",
    "    print(\n",
    "        f\"BM25 score: {o.metadata.score:.3f}\\n\"\n",
    "    )  # Print the BM25 score of the object from the query\n",
    "\n",
    "# client.close()"
   ]
  },
  {
   "cell_type": "code",
   "execution_count": null,
   "metadata": {},
   "outputs": [],
   "source": []
  }
 ],
 "metadata": {
  "kernelspec": {
   "display_name": "Python 3",
   "language": "python",
   "name": "python3"
  },
  "language_info": {
   "codemirror_mode": {
    "name": "ipython",
    "version": 3
   },
   "file_extension": ".py",
   "mimetype": "text/x-python",
   "name": "python",
   "nbconvert_exporter": "python",
   "pygments_lexer": "ipython3",
   "version": "3.12.1"
  },
  "orig_nbformat": 4
 },
 "nbformat": 4,
 "nbformat_minor": 2
}
